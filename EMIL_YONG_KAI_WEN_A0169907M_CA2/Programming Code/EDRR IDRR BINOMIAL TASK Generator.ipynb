{
 "cells": [
  {
   "cell_type": "code",
   "execution_count": 1,
   "id": "0f842f8d",
   "metadata": {},
   "outputs": [],
   "source": [
    "#import jovian\n",
    "import numpy as np\n",
    "import matplotlib.pyplot as plt\n",
    "import os\n",
    "import pandas as pd\n",
    "import random \n",
    "import matplotlib.colors as mcolors"
   ]
  },
  {
   "cell_type": "markdown",
   "id": "275f5b41",
   "metadata": {},
   "source": [
    "# Different Arrival"
   ]
  },
  {
   "cell_type": "code",
   "execution_count": 18,
   "id": "f463bf22",
   "metadata": {},
   "outputs": [
    {
     "name": "stdout",
     "output_type": "stream",
     "text": [
      "2000\n",
      "[ 0  9  6 ...  7 10  4]\n",
      "      Process ID  Arrival Time  Burst Time\n",
      "0              1             0          43\n",
      "1              2             9          33\n",
      "2              3             6          42\n",
      "3              4            10          40\n",
      "4              5             7          47\n",
      "...          ...           ...         ...\n",
      "1995        1996             9          41\n",
      "1996        1997             6          42\n",
      "1997        1998             7          36\n",
      "1998        1999            10          36\n",
      "1999        2000             4          44\n",
      "\n",
      "[2000 rows x 3 columns]\n"
     ]
    }
   ],
   "source": [
    "number_of_process=2000\n",
    "a_n, a_p = 15, .5  # number of trials, probability of each trial\n",
    "arrival_time_dataset_rounded = np.random.binomial(a_n, a_p, number_of_process)\n",
    "checker = np.where(abs(arrival_time_dataset_rounded) == 0.0)\n",
    "\n",
    "if len(checker[0]) == 0:\n",
    "    arrival_time_dataset_rounded[0] = 0\n",
    "    \n",
    "process_id_binomial = list(range(1, number_of_process+1))\n",
    "\n",
    "b_n, b_p = 100, 0.4  # number of trials, probability of each trial\n",
    "burst_time_dataset_rounded = np.random.binomial(b_n, b_p, number_of_process)\n",
    "max_num = max(burst_time_dataset_rounded)\n",
    "\n",
    "# just need to make sure that burst time there is no 0 term.\n",
    "burst_time_dataset_rounded[burst_time_dataset_rounded<=0] = random. randint(0,int(max_num)) \n",
    "burst_time_dataset_rounded = abs(burst_time_dataset_rounded)\n",
    "\n",
    "arrival_time=arrival_time_dataset_rounded\n",
    "burst_time = burst_time_dataset_rounded\n",
    "\n",
    "#check for idle condition \n",
    "\n",
    "find_zero = np.where(arrival_time == 0)\n",
    "index_first = find_zero[0][0]\n",
    "\n",
    "get_burst_time = burst_time[index_first]\n",
    "\n",
    "chcker = []\n",
    "\n",
    "if number_of_process!=1: #means there at least 2 processors\n",
    "    for i,v in enumerate(arrival_time):\n",
    "        if v<=get_burst_time and v>0:\n",
    "            #print(\"There no IDLE processes\")\n",
    "            chcker.append(1)\n",
    "\n",
    "    print(len(arrival_time))\n",
    "    if i == (len(arrival_time)-1) & len(chcker)>2:\n",
    "        chcker = 100     \n",
    "    elif len(chcker) < 2: #pair wise neighbour\n",
    "        print(\"There are IDLE processes\")\n",
    "        #locate the next available burst time after Bt\n",
    "        locate_index = np.where(arrival_time>get_burst_time)\n",
    "        min_v =  min(arrival_time[locate_index[0]])\n",
    "\n",
    "        locate_min_v = np.where(arrival_time == min_v)\n",
    "        print(locate_min_v[0][0])\n",
    "        #change that arrival time to below the bt\n",
    "        change_time =  int(get_burst_time)-1\n",
    "        arrival_time[locate_min_v[0][0]] = change_time\n",
    "\n",
    "\n",
    "\n",
    "\n",
    "print(arrival_time)\n",
    "\n",
    "saved_list = pd.DataFrame(\n",
    "    {'Process ID': process_id_binomial,\n",
    "     'Arrival Time': arrival_time,\n",
    "     'Burst Time': burst_time\n",
    "    })\n",
    "print(saved_list)\n",
    "saved_list.to_excel(\"Binomal_\"+str(number_of_process)+\"_different_arrival\"+str(a_n)+\"_\"+str(a_p)+\"burst\"+str(b_n)+\"_\"+str(b_p)+\".xlsx\",index=False)"
   ]
  },
  {
   "cell_type": "markdown",
   "id": "f727d1d6",
   "metadata": {},
   "source": []
  },
  {
   "cell_type": "code",
   "execution_count": 5,
   "id": "71aefc93",
   "metadata": {},
   "outputs": [],
   "source": []
  },
  {
   "cell_type": "code",
   "execution_count": null,
   "id": "a608396e",
   "metadata": {},
   "outputs": [],
   "source": []
  }
 ],
 "metadata": {
  "kernelspec": {
   "display_name": "Python 3 (ipykernel)",
   "language": "python",
   "name": "python3"
  },
  "language_info": {
   "codemirror_mode": {
    "name": "ipython",
    "version": 3
   },
   "file_extension": ".py",
   "mimetype": "text/x-python",
   "name": "python",
   "nbconvert_exporter": "python",
   "pygments_lexer": "ipython3",
   "version": "3.9.7"
  }
 },
 "nbformat": 4,
 "nbformat_minor": 5
}
